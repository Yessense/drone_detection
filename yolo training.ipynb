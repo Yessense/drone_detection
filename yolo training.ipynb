{
  "cells": [
    {
      "cell_type": "markdown",
      "metadata": {
        "id": "view-in-github",
        "colab_type": "text"
      },
      "source": [
        "<a href=\"https://colab.research.google.com/github/Yessense/yolov5n_detect_drone/blob/master/yolo%20training.ipynb\" target=\"_parent\"><img src=\"https://colab.research.google.com/assets/colab-badge.svg\" alt=\"Open In Colab\"/></a>"
      ]
    },
    {
      "cell_type": "markdown",
      "source": [
        "# DLS project by Alexandr Korchemnyi"
      ],
      "metadata": {
        "collapsed": false,
        "pycharm": {
          "name": "#%% md\n"
        },
        "id": "B85XYRIJLBKK"
      }
    },
    {
      "cell_type": "code",
      "execution_count": null,
      "metadata": {
        "collapsed": true,
        "pycharm": {
          "name": "#%%\n"
        },
        "id": "bqIrppnpLBKM"
      },
      "outputs": [],
      "source": [
        "# !git clone https://github.com/ultralytics/yolov5"
      ]
    },
    {
      "cell_type": "code",
      "execution_count": null,
      "outputs": [
        {
          "name": "stdout",
          "output_type": "stream",
          "text": [
            "/home/yessense/projects/dls project/yolov5\n"
          ]
        }
      ],
      "source": [
        "%cd yolov5\n",
        "# %pip install -qr requirements.txt"
      ],
      "metadata": {
        "pycharm": {
          "name": "#%%\n"
        },
        "id": "m8d2XRTMLBKM",
        "outputId": "d3ee2705-77bd-4224-ba0e-782bbef3bd4a"
      }
    },
    {
      "cell_type": "code",
      "execution_count": null,
      "outputs": [],
      "source": [
        "import torch\n",
        "import os\n",
        "from IPython.display import Image, clear_output  # to display images"
      ],
      "metadata": {
        "pycharm": {
          "name": "#%%\n"
        },
        "id": "SRJJ8PFXLBKN"
      }
    },
    {
      "cell_type": "code",
      "execution_count": null,
      "outputs": [
        {
          "name": "stdout",
          "output_type": "stream",
          "text": [
            "Setup complete. Using torch 1.8.1+cu102 (NVIDIA GeForce RTX 2060)\n"
          ]
        }
      ],
      "source": [
        "print(f\"Setup complete. Using torch {torch.__version__} ({torch.cuda.get_device_properties(0).name if torch.cuda.is_available() else 'CPU'})\")"
      ],
      "metadata": {
        "pycharm": {
          "name": "#%%\n"
        },
        "id": "mhIpnTn2LBKO",
        "outputId": "d1a56066-96af-4ea3-8c8e-60b753b8ea48"
      }
    },
    {
      "cell_type": "code",
      "execution_count": null,
      "outputs": [],
      "source": [
        "dataset_directory = \"/home/yessense/projects/dls project/dataset\""
      ],
      "metadata": {
        "pycharm": {
          "name": "#%%\n"
        },
        "id": "OqAKrnQaLBKO"
      }
    },
    {
      "cell_type": "code",
      "execution_count": null,
      "outputs": [],
      "source": [
        "train_len = len(os.listdir(os.path.join(dataset_directory, \"train/images\")))\n",
        "test_len = len(os.listdir(os.path.join(dataset_directory, \"test/images\")))\n",
        "valid_len = len(os.listdir(os.path.join(dataset_directory, \"valid/images\")))\n",
        "\n",
        "print(f'Lenght of train dataset: {train_len}')\n",
        "print(f'Lenght of validation dataset: {valid_len}')\n",
        "print(f'Lenght of test dataset: {test_len}')\n",
        "print(f'Total lenght with reflect augmentation: {sum([train_len, valid_len, test_len])}')\n"
      ],
      "metadata": {
        "pycharm": {
          "name": "#%%\n"
        },
        "id": "TLgU1RwcLBKP"
      }
    },
    {
      "cell_type": "markdown",
      "source": [
        "# Данные\n",
        "Набор данных снят на полигоне для дронов в МИРЭА. Размечен с помощью roboflow."
      ],
      "metadata": {
        "collapsed": false,
        "pycharm": {
          "name": "#%% md\n"
        },
        "id": "neykcGx_LBKP"
      }
    },
    {
      "cell_type": "markdown",
      "source": [
        "![](https://github.com/Yessense/yolov5n_detect_drone/blob/master/imgs/train_batch0.jpg?raw=1)"
      ],
      "metadata": {
        "collapsed": false,
        "pycharm": {
          "name": "#%% md\n"
        },
        "id": "TIAczM7cLBKQ"
      }
    },
    {
      "cell_type": "markdown",
      "source": [
        "# Тренировка модели\n",
        "Изначальная модель - yolov5n\n",
        "Взята, как самая маленькая, чтобы запускать на"
      ],
      "metadata": {
        "collapsed": false,
        "pycharm": {
          "name": "#%% md\n"
        },
        "id": "pr6cRPizLBKQ"
      }
    },
    {
      "cell_type": "code",
      "execution_count": null,
      "outputs": [],
      "source": [
        "!python train.py --img 320 --batch 16 --epochs 150 --data \"/home/yessense/projects/dls project/dataset/data.yaml\" --weights yolov5n.pt --cache --hyp \"/home/yessense/projects/dls project/dataset/hyp.yaml\""
      ],
      "metadata": {
        "pycharm": {
          "name": "#%%\n"
        },
        "id": "c6Lr6IFjLBKR"
      }
    },
    {
      "cell_type": "markdown",
      "source": [
        "![](https://github.com/Yessense/yolov5n_detect_drone/blob/master/imgs/F1_curve.png?raw=1)\n",
        "![](https://github.com/Yessense/yolov5n_detect_drone/blob/master/imgs/P_curve.png?raw=1)\n",
        "![](https://github.com/Yessense/yolov5n_detect_drone/blob/master/imgs/PR_curve.png?raw=1)\n",
        "![](https://github.com/Yessense/yolov5n_detect_drone/blob/master/imgs/R_curve.png?raw=1)"
      ],
      "metadata": {
        "collapsed": false,
        "pycharm": {
          "name": "#%% md\n"
        },
        "id": "Hl5CY1GDLBKR"
      }
    },
    {
      "cell_type": "code",
      "execution_count": null,
      "outputs": [],
      "source": [
        "!python export.py --img 320 --batch 1 --weights \"/home/yessense/projects/dls project/yolov5/runs/train/exp5/weights/best.pt\" --include onnx"
      ],
      "metadata": {
        "pycharm": {
          "name": "#%%\n"
        },
        "id": "CEU7OAOFLBKR"
      }
    },
    {
      "cell_type": "markdown",
      "source": [
        "# Результаты\n",
        "![](https://github.com/Yessense/yolov5n_detect_drone/blob/master/results/1.jpeg?raw=1)\n",
        "![](https://github.com/Yessense/yolov5n_detect_drone/blob/master/results/2.jpeg?raw=1)\n",
        "![](https://github.com/Yessense/yolov5n_detect_drone/blob/master/results/3.jpeg?raw=1)\n",
        "![](https://github.com/Yessense/yolov5n_detect_drone/blob/master/results/4.jpeg?raw=1)\n",
        "![](https://github.com/Yessense/yolov5n_detect_drone/blob/master/results/5.jpeg?raw=1)\n",
        "![](https://github.com/Yessense/yolov5n_detect_drone/blob/master/results/find.gif?raw=1)\n",
        "\n"
      ],
      "metadata": {
        "collapsed": false,
        "pycharm": {
          "name": "#%% md\n"
        },
        "id": "al5TiV78LBKS"
      }
    }
  ],
  "metadata": {
    "kernelspec": {
      "display_name": "Python 3",
      "language": "python",
      "name": "python3"
    },
    "language_info": {
      "codemirror_mode": {
        "name": "ipython",
        "version": 2
      },
      "file_extension": ".py",
      "mimetype": "text/x-python",
      "name": "python",
      "nbconvert_exporter": "python",
      "pygments_lexer": "ipython2",
      "version": "2.7.6"
    },
    "colab": {
      "name": "yolo training.ipynb",
      "provenance": [],
      "include_colab_link": true
    }
  },
  "nbformat": 4,
  "nbformat_minor": 0
}